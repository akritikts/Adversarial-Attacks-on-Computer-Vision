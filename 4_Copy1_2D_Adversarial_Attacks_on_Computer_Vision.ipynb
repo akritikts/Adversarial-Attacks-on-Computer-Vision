{
  "nbformat": 4,
  "nbformat_minor": 0,
  "metadata": {
    "accelerator": "GPU",
    "colab": {
      "name": "4-Copy1.2D - Adversarial Attacks on Computer Vision.ipynb",
      "provenance": [],
      "collapsed_sections": [],
      "toc_visible": true,
      "include_colab_link": true
    },
    "kernelspec": {
      "display_name": "Python 3",
      "language": "python",
      "name": "python3"
    },
    "language_info": {
      "codemirror_mode": {
        "name": "ipython",
        "version": 3
      },
      "file_extension": ".py",
      "mimetype": "text/x-python",
      "name": "python",
      "nbconvert_exporter": "python",
      "pygments_lexer": "ipython3",
      "version": "3.7.3"
    }
  },
  "cells": [
    {
      "cell_type": "markdown",
      "metadata": {
        "id": "view-in-github",
        "colab_type": "text"
      },
      "source": [
        "<a href=\"https://colab.research.google.com/github/akritikts/Adversarial-Attacks-on-Computer-Vision/blob/master/4_Copy1_2D_Adversarial_Attacks_on_Computer_Vision.ipynb\" target=\"_parent\"><img src=\"https://colab.research.google.com/assets/colab-badge.svg\" alt=\"Open In Colab\"/></a>"
      ]
    },
    {
      "cell_type": "markdown",
      "metadata": {
        "colab_type": "text",
        "id": "XGCdmDAKpLuf"
      },
      "source": [
        "Modified from:\n",
        "\n",
        "[https://www.tensorflow.org/beta/tutorials/generative/adversarial_fgsm](https://www.tensorflow.org/beta/tutorials/generative/adversarial_fgsm).\n"
      ]
    },
    {
      "cell_type": "markdown",
      "metadata": {
        "id": "_fueiAQk3zfN",
        "colab_type": "text"
      },
      "source": [
        "GitHub [link](https://github.com/MYUSER/MYPROJECT/)!"
      ]
    },
    {
      "cell_type": "markdown",
      "metadata": {
        "id": "bfoYd4wG3zfO",
        "colab_type": "text"
      },
      "source": [
        "Welcome to your assignment this week! \n",
        "\n",
        "To better understand adverse attacks againsts AI and how it is possible to fool an AI system, in this assignment, we will look at a Computer Vision use case. \n",
        "\n",
        "\n"
      ]
    },
    {
      "cell_type": "markdown",
      "metadata": {
        "colab_type": "text",
        "id": "8dn1-g8BpPDx"
      },
      "source": [
        "This assessment creates an *adversarial example* using the Fast Gradient Signed Method (FGSM) attack as described in [Explaining and Harnessing Adversarial Examples](https://arxiv.org/abs/1412.6572) by Goodfellow *et al*. This was one of the first and most popular attacks to fool a neural network. \n",
        "\n",
        "# What is an adversarial example?\n",
        "\n",
        "Adversarial examples are specialised inputs created with the purpose of confusing a neural network, resulting in the misclassification of a given input. These notorious inputs are indistinguishable to the human eye, but cause the network to fail to identify the contents of the image. There are several types of such attacks, however, here the focus is on the fast gradient sign method attack, which is a *white box* attack whose goal is to ensure misclassification. A white box attack is where the attacker has complete access to the model being attacked.\n",
        "\n",
        "# Fast gradient sign method\n",
        "The fast gradient sign method works by using the gradients of the neural network to create an adversarial example. For an input image, the method uses the gradients of the loss with respect to the input image to create a new image that maximises the loss. This new image is called the adversarial image. This can be summarised using the following expression:\n",
        "$$adv\\_x = x + \\epsilon*\\text{sign}(\\nabla_xJ(\\theta, x, y))$$\n",
        "\n",
        "where \n",
        "\n",
        "*   adv_x : Adversarial image.\n",
        "*   x : Original input image.\n",
        "*   y : Original input label.\n",
        "*   $\\epsilon$ : Multiplier to ensure the perturbations are small.\n",
        "*   $\\theta$ : Model parameters.\n",
        "*   $J$ : Loss.\n",
        "\n",
        "An intriguing property here, is the fact that the gradients are taken with respect to the input image. This is done because the objective is to create an image that maximises the loss. A method to accomplish this is to find how much each pixel in the image contributes to the loss value, and add a perturbation accordingly. This works pretty fast because it is easy find how each input pixel contributes to the loss, by using the chain rule, and finding the required gradients. Hence, the gradients are used with respect to the image. In addition, since the model is no longer being trained (thus the gradient is not taken with respect to the trainable variables, i.e., the model parameters), and so the model parameters remain constant. The only goal is to fool an already trained model.\n",
        "\n"
      ]
    },
    {
      "cell_type": "markdown",
      "metadata": {
        "id": "radviNQH3zfP",
        "colab_type": "text"
      },
      "source": [
        "# Part 1\n",
        "\n",
        "So let's try and fool a pretrained model. In this first part, the model is [MobileNetV2](https://www.tensorflow.org/versions/r2.0/api_docs/python/tf/keras/applications/MobileNetV2) model, pretrained on [ImageNet](http://www.image-net.org/).\n",
        "\n",
        "\n",
        "Run the following cell to install all the packages you will need."
      ]
    },
    {
      "cell_type": "code",
      "metadata": {
        "scrolled": true,
        "id": "NK5UF97Q3zfQ",
        "colab_type": "code",
        "colab": {}
      },
      "source": [
        "! pip install cython\n",
        "! pip install tensornets\n",
        "! pip install numpy==1.16.1\n",
        "! pip install tensorflow\n",
        "! pip install matplotlib"
      ],
      "execution_count": null,
      "outputs": []
    },
    {
      "cell_type": "markdown",
      "metadata": {
        "id": "ChQBsH_L3zfU",
        "colab_type": "text"
      },
      "source": [
        "Run the following cell to load the packages you will need."
      ]
    },
    {
      "cell_type": "code",
      "metadata": {
        "colab_type": "code",
        "id": "vag2WYR6yTOC",
        "colab": {}
      },
      "source": [
        "import tensorflow.compat.v1 as tf\n",
        "tf.disable_v2_behavior()\n",
        "import matplotlib as mpl\n",
        "import matplotlib.pyplot as plt\n",
        "import tensornets as nets\n",
        "\n"
      ],
      "execution_count": null,
      "outputs": []
    },
    {
      "cell_type": "code",
      "metadata": {
        "id": "lmUXzLB83zfY",
        "colab_type": "code",
        "colab": {}
      },
      "source": [
        "config = tf.ConfigProto()\n",
        "config.gpu_options.allow_growth = True\n",
        "config.log_device_placement = True\n",
        "config.allow_soft_placement = True\n",
        "sess = tf.Session(config=config)"
      ],
      "execution_count": null,
      "outputs": []
    },
    {
      "cell_type": "markdown",
      "metadata": {
        "colab_type": "text",
        "id": "wiTHY8dqxzx7"
      },
      "source": [
        "Let's define the computation graph."
      ]
    },
    {
      "cell_type": "code",
      "metadata": {
        "colab_type": "code",
        "id": "nqhk2vYx6Ag0",
        "colab": {}
      },
      "source": [
        "# Helper function to preprocess the image so that it can be inputted in MobileNetV2\n",
        "def preprocess(image):\n",
        "    image = tf.cast(image, tf.float32)\n",
        "    image = tf.image.resize(image, (224, 224))\n",
        "    image = image /  127.5\n",
        "    image = image - 1.0\n",
        "    image = image[None, ...]\n",
        "    return image\n",
        "def reverse_preprocess(image):\n",
        "    image = image + 1.0\n",
        "    image = image / 2.0\n",
        "    return image\n",
        "\n",
        "# Helper function to extract labels from probability vector\n",
        "def get_imagenet_label(probs):\n",
        "    return decode_predictions(probs, top=5)[0]\n",
        "\n",
        "\n",
        "# Lets's import an image to process.\n",
        "image_path = tf.keras.utils.get_file('YellowLabradorLooking_new.jpg', 'https://storage.googleapis.com/download.tensorflow.org/example_images/YellowLabradorLooking_new.jpg')\n",
        "image_raw = tf.io.read_file(image_path)\n",
        "image = tf.image.decode_png(image_raw)\n",
        "input_image = preprocess(image)\n",
        "reversed_image = reverse_preprocess(input_image)\n",
        "print(input_image.shape)\n",
        "input_image_placeholder = tf.placeholder(shape=[1, 224, 224, 3], dtype=tf.float32)\n",
        "\n",
        "pretrained_model = nets.MobileNet50v2(input_image_placeholder, reuse=tf.AUTO_REUSE)\n",
        "\n",
        "# node to load pretrained weights\n",
        "pretrained_ops = pretrained_model.pretrained()\n",
        "\n",
        "# decode predicted probabilities to ImageNet labels\n",
        "decode_predictions = tf.keras.applications.mobilenet_v2.decode_predictions\n"
      ],
      "execution_count": null,
      "outputs": []
    },
    {
      "cell_type": "markdown",
      "metadata": {
        "colab_type": "text",
        "id": "iEZaMVFgSUA-"
      },
      "source": [
        "## Original image\n",
        "Let's use a sample image of a [Labrador Retriever](https://commons.wikimedia.org/wiki/File:YellowLabradorLooking_new.jpg) -by Mirko       [CC-BY-SA 3.0](https://creativecommons.org/licenses/by-sa/3.0/) from Wikimedia Common and create adversarial examples from it. The first step is to preprocess it so that it can be fed as an input to the MobileNetV2 model."
      ]
    },
    {
      "cell_type": "code",
      "metadata": {
        "colab_type": "code",
        "id": "wpYrQ4OQSYWk",
        "colab": {}
      },
      "source": [
        "config = tf.ConfigProto()\n",
        "config.gpu_options.allow_growth = True\n",
        "config.log_device_placement = True\n",
        "sess = tf.Session(config=config)\n",
        "\n",
        "sess.run(pretrained_ops)\n",
        "preprocessed_img, reversed_img = sess.run([input_image, reversed_image])\n",
        "image_probs = sess.run([pretrained_model], {input_image_placeholder:preprocessed_img})"
      ],
      "execution_count": null,
      "outputs": []
    },
    {
      "cell_type": "markdown",
      "metadata": {
        "colab_type": "text",
        "id": "mvPlta_uSbuI"
      },
      "source": [
        "Let's have a look at the image."
      ]
    },
    {
      "cell_type": "code",
      "metadata": {
        "colab_type": "code",
        "id": "99Jc-SNoSZot",
        "scrolled": false,
        "colab": {}
      },
      "source": [
        "top5 = get_imagenet_label(image_probs[0])\n",
        "#print(image_probs[0])\n",
        "tick_names = [x[1] for x in top5]\n",
        "print(tick_names)\n",
        "probs = [x[2] for x in top5]\n",
        "plt.figure(figsize=(9, 3))\n",
        "plt.subplot(121)\n",
        "plt.imshow(reversed_img[0])\n",
        "plt.title('image')\n",
        "ax = plt.gca()\n",
        "ax.axis('off')\n",
        "\n",
        "plt.subplot(122)\n",
        "tick_names = [x[1] for x in reversed(top5)]\n",
        "probs = [x[2] for x in reversed(top5)]\n",
        "plt.barh(tick_names, probs)\n",
        "plt.yticks(rotation=25)\n",
        "ax = plt.gca()\n",
        "ax.spines['top'].set_visible(False)\n",
        "ax.spines['right'].set_visible(False)\n",
        "ax.spines['left'].set_visible(False)\n",
        "plt.tight_layout()\n",
        "plt.show()"
      ],
      "execution_count": null,
      "outputs": []
    },
    {
      "cell_type": "markdown",
      "metadata": {
        "colab_type": "text",
        "id": "kElVTbF690CF"
      },
      "source": [
        "# Create the adversarial image\n",
        "\n",
        "## Implementing fast gradient sign method\n",
        "The first step is to create perturbations which will be used to distort the original image resulting in an adversarial image. As mentioned, for this task, the gradients are taken with respect to the image."
      ]
    },
    {
      "cell_type": "markdown",
      "metadata": {
        "id": "uraURtMZ3zfm",
        "colab_type": "text"
      },
      "source": [
        "**TASK 1:** Implement `create_adversarial_pattern()`. You will need to carry out 3 steps:\n",
        "\n",
        "1. Create a loss object using `loss_object` using two argument `input_image` and `input_label`.\n",
        "2. Get the gradients using `tf.gradients` of the `loss`  w.r.t to the `input_image`.\n",
        "3. Get the sign of the gradients to create the perturbation using `tf.sign`.\n"
      ]
    },
    {
      "cell_type": "code",
      "metadata": {
        "colab_type": "code",
        "id": "FhZxlOnuBCVr",
        "colab": {}
      },
      "source": [
        "loss_object = tf.keras.losses.SparseCategoricalCrossentropy()\n",
        " \n",
        "def create_adversarial_pattern(input_image, input_label):\n",
        "    ## START YOU CODE HERE (3 lines)\n",
        "    loss = loss_object(input_label, pretrained_model)\n",
        "    gradient = tf.gradients(loss, input_image)\n",
        "    signed_grad = tf.sign(gradient)[0]\n",
        "    # END\n",
        "    return signed_grad"
      ],
      "execution_count": null,
      "outputs": []
    },
    {
      "cell_type": "markdown",
      "metadata": {
        "colab_type": "text",
        "id": "RbuftX0eSlDQ"
      },
      "source": [
        "The resulting perturbations can also be visualised."
      ]
    },
    {
      "cell_type": "code",
      "metadata": {
        "colab_type": "code",
        "id": "rVjnb6M7Smv4",
        "scrolled": false,
        "colab": {}
      },
      "source": [
        "perturbations = create_adversarial_pattern(input_image_placeholder, tf.argmax(pretrained_model,1))\n",
        "p_cliped = tf.clip_by_value(perturbations, 0, 1)\n",
        " \n",
        "p_cliped_val = sess.run(p_cliped, {input_image_placeholder: preprocessed_img})\n",
        "plt.figure()\n",
        "plt.imshow(p_cliped_val[0])\n",
        "plt.gca().axis('off')\n",
        "plt.show()"
      ],
      "execution_count": null,
      "outputs": []
    },
    {
      "cell_type": "markdown",
      "metadata": {
        "id": "2ZgwT8a53zft",
        "colab_type": "text"
      },
      "source": [
        "## Fool the AI system"
      ]
    },
    {
      "cell_type": "markdown",
      "metadata": {
        "colab_type": "text",
        "id": "DKKSFHjwCyQH"
      },
      "source": [
        "Let's try this out for different values of epsilon and observe the resultant image. You'll notice that as the value of epsilon is increased, it becomes easier to fool the network, however, this comes as a trade-off which results in the perturbations becoming more identifiable."
      ]
    },
    {
      "cell_type": "code",
      "metadata": {
        "colab_type": "code",
        "id": "dBtG0Kl5SspV",
        "colab": {}
      },
      "source": [
        "def display_images(image, description):\n",
        "    #print(1)\n",
        "    rev_image = reverse_preprocess(image)\n",
        "    #print(2)\n",
        "    adv_img, raw_adv_img = sess.run([image, rev_image], {input_image_placeholder: preprocessed_img})\n",
        "    #print(3)\n",
        "    img_probs = sess.run(pretrained_model, {input_image_placeholder: adv_img})\n",
        "    #print(4)\n",
        "    top5 = get_imagenet_label(img_probs)\n",
        "    #print(top5)\n",
        "    top5 = list(reversed(top5))\n",
        "    #print(6)\n",
        "    plt.figure(figsize=(9, 3))\n",
        "    plt.subplot(121)\n",
        "    plt.imshow(raw_adv_img[0])\n",
        "    plt.title(description)\n",
        "    plt.gca().axis('off')\n",
        "    plt.subplot(122)\n",
        "    tick_names = [x[1] for x in top5]\n",
        "    probs = [x[2] for x in top5]\n",
        "    plt.barh(tick_names, probs)\n",
        "    plt.yticks(rotation=25)\n",
        "    ax = plt.gca()\n",
        "    ax.spines['top'].set_visible(False)\n",
        "    ax.spines['right'].set_visible(False)\n",
        "    ax.spines['left'].set_visible(False)\n",
        "    plt.tight_layout()\n",
        "    plt.show()\n",
        "    #print(top5)\n",
        "    return top5[4][1]"
      ],
      "execution_count": null,
      "outputs": []
    },
    {
      "cell_type": "code",
      "metadata": {
        "id": "pGhuvRb83zfx",
        "colab_type": "code",
        "colab": {}
      },
      "source": [
        "def display_images111(image, description):\n",
        "    \n",
        "   # _, label, confidence = get_imagenet_label(pretrained_model)\n",
        "    plt.figure()\n",
        "    plt.imshow(image[0]*0.5+0.5)\n",
        "    plt.title('{} \\n {} : {:.2f}% Confidence'.format(description,\n",
        "                                                   label, confidence*100))\n",
        "    plt.show()"
      ],
      "execution_count": null,
      "outputs": []
    },
    {
      "cell_type": "markdown",
      "metadata": {
        "id": "Pymolnvm3zf0",
        "colab_type": "text"
      },
      "source": [
        "**TASK 1:** Generate adverse image using different values for $\\epsilon$:\n",
        "\n",
        "- adv_x = input_image + $\\epsilon$ * perturbations\n"
      ]
    },
    {
      "cell_type": "code",
      "metadata": {
        "colab_type": "code",
        "id": "3DA8g-Zp69J4",
        "scrolled": false,
        "colab": {}
      },
      "source": [
        "epsilons = [0, 0.01, 0.1, 0.15, 0.3]\n",
        "descriptions = [('Epsilon = {:0.3f}'.format(eps) if eps else 'Input')\n",
        "                for eps in epsilons]\n",
        " \n",
        "for i, eps in enumerate(epsilons):\n",
        "    ## START YOU CODE HERE\n",
        "    adv_x = input_image + (eps*perturbations)\n",
        "    ## End\n",
        "    adv_x = tf.clip_by_value(adv_x, -1, 1)\n",
        "    display_images(adv_x, descriptions[i])\n",
        "\n",
        "    \n",
        "    \n",
        "    \n"
      ],
      "execution_count": null,
      "outputs": []
    },
    {
      "cell_type": "markdown",
      "metadata": {
        "id": "AEyHTbBP3zf5",
        "colab_type": "text"
      },
      "source": [
        "**TASK 2: What do you abserve?**\n",
        "\n",
        "***\n",
        "\n",
        "As the value of epsilon is increased, it becomes easier to fool the network\n",
        "\n",
        "***"
      ]
    },
    {
      "cell_type": "markdown",
      "metadata": {
        "id": "cI2hjt3l3zf5",
        "colab_type": "text"
      },
      "source": [
        "#  Part 2\n",
        "\n",
        "Here, you are required to process adversarial attacks using FGSM for a small subset of [ImageNet Dataset](http://www.image-net.org/). We prepared 100 images from different categories (in `./input_dir/`), and the labels are encoded in `./input_dir/clean_image.list`.\n",
        "\n",
        "For evaluation, each adversarial image generated by the attack model will be fed to an evaluation model, and we will calculate the successful rate of adversarial attacks. **The adversarial images that can fool the evaluation model with $\\epsilon$ = 0.01 will be considered as a success**.\n",
        "\n",
        "\n",
        "\n",
        "**Task 3: Goal**\n",
        "\n",
        "***\n",
        "\n",
        "With the previous FGSM example, you are required to implement an FGSM attack against all examples and calculate the success rate. Also, display the original image with the attacked image as well as the predicted class for each image.\n"
      ]
    },
    {
      "cell_type": "code",
      "metadata": {
        "id": "ej9GDx5m3zf6",
        "colab_type": "code",
        "colab": {}
      },
      "source": [
        ""
      ],
      "execution_count": null,
      "outputs": []
    },
    {
      "cell_type": "code",
      "metadata": {
        "id": "BmQZFZd5amCX",
        "colab_type": "code",
        "colab": {}
      },
      "source": [
        "from google.colab import files\n",
        "uploaded = files.upload()"
      ],
      "execution_count": null,
      "outputs": []
    },
    {
      "cell_type": "code",
      "metadata": {
        "id": "9RRXZbTZhlUq",
        "colab_type": "code",
        "colab": {}
      },
      "source": [
        "for fn in uploaded.keys():\n",
        "       print('User uploaded file \"{name}\" with length {length} bytes'.format(name=fn, length=len(uploaded[fn])))"
      ],
      "execution_count": null,
      "outputs": []
    },
    {
      "cell_type": "code",
      "metadata": {
        "id": "53Wyhu9chlXP",
        "colab_type": "code",
        "colab": {}
      },
      "source": [
        "#f = open('clean_image.list', 'rb')\n",
        "with open('clean_image.list', encoding=\"utf8\", errors='ignore') as f:\n",
        "  labels = [line.rstrip(\"\\n\") for line in f.readlines()]\n",
        "f.close()\n",
        "for i,x in enumerate(labels):\n",
        "    if ' ' in x:\n",
        "        labels[i] = x[:x.index(' ')]\n",
        "labels\n",
        "\n"
      ],
      "execution_count": null,
      "outputs": []
    },
    {
      "cell_type": "code",
      "metadata": {
        "id": "1XbAwIRDjDQ_",
        "colab_type": "code",
        "colab": {}
      },
      "source": [
        "from PIL import Image\n",
        "from io import BytesIO\n",
        "pred = []\n",
        "true = []\n",
        "for label in labels:\n",
        "  for fn in uploaded.keys():\n",
        "    if fn in label:\n",
        "      im = Image.open(BytesIO(uploaded[fn]))\n",
        "      input_image = preprocess(im)\n",
        "      reversed_image = reverse_preprocess(input_image)  \n",
        "      preprocessed_img, reversed_img = sess.run([input_image, reversed_image])\n",
        "      image_probs = sess.run([pretrained_model], {input_image_placeholder:preprocessed_img})\n",
        "      tp = get_imagenet_label(image_probs[0])\n",
        "      print(\"True label: \", tp[0][1])\n",
        "      true.append(tp[0][1])\n",
        "      adv_x = input_image + (0.01*perturbations)\n",
        "      adv_x = tf.clip_by_value(adv_x, -1, 1)\n",
        "      p = display_images(adv_x, label+' Epsilon = 0.01')\n",
        "      print(\"Predicted label: \", p, \"\\n\")\n",
        "      pred.append(p)\n",
        "accuracy = len([true[i] for i in range(0, len(true)) if true[i] == pred[i]]) / len(true)\n",
        "print(\"Rate of adversarial attack: \", accuracy)"
      ],
      "execution_count": null,
      "outputs": []
    },
    {
      "cell_type": "code",
      "metadata": {
        "id": "ge1-LD_a5nQb",
        "colab_type": "code",
        "colab": {}
      },
      "source": [
        "\n",
        "    \n",
        "\n",
        "pred = []\n",
        "true = []\n",
        "for label in labels:  \n",
        "  image_raw = tf.io.read_file(label)\n",
        "  print(\"image name: \", label)\n",
        "  image = tf.image.decode_png(image_raw)\n",
        "  input_image = preprocess(image)\n",
        "  reversed_image = reverse_preprocess(input_image)\n",
        "  preprocessed_img, reversed_img = sess.run([input_image, reversed_image])\n",
        "  image_probs = sess.run([pretrained_model], {input_image_placeholder:preprocessed_img})\n",
        "  \n",
        "  tp = get_imagenet_label(image_probs[0])\n",
        "  print(\"True label: \", tp[0][1])\n",
        "  true.append(tp[0][1])\n",
        "  adv_x = input_image + (0.01*perturbations)\n",
        "  adv_x = tf.clip_by_value(adv_x, -1, 1)\n",
        "  p = display_images(adv_x, label)\n",
        "  print(\"Predicted label: \", p, \"\\n\")\n",
        "  pred.append(p)\n",
        "\n",
        "accuracy = len([true[i] for i in range(0, len(true)) if true[i] == pred[i]]) / len(true)\n",
        "print(\"Rate of adversarial attack: \", accuracy)"
      ],
      "execution_count": null,
      "outputs": []
    },
    {
      "cell_type": "markdown",
      "metadata": {
        "id": "6V3HCRjI3zf8",
        "colab_type": "text"
      },
      "source": [
        "***"
      ]
    },
    {
      "cell_type": "markdown",
      "metadata": {
        "id": "n_7ma6TI3zf9",
        "colab_type": "text"
      },
      "source": [
        "# Congratulations!\n",
        "\n",
        "You've come to the end of this assignment, and have seen a lot of the ways attack and fool an AI system. Here are the main points you should remember:\n",
        "\n",
        "- It is very easy to fool a computer vision system if you know the model and its parameters.\n",
        "- When designing an AI system, you need to think of adverse attacks againsts your system.\n",
        "\n",
        "Congratulations on finishing this notebook! \n",
        "\n"
      ]
    }
  ]
}